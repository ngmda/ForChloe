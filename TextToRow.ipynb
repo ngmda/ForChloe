{
 "cells": [
  {
   "cell_type": "code",
   "execution_count": 33,
   "id": "e6b80181",
   "metadata": {},
   "outputs": [],
   "source": [
    "#import libraries\n",
    "import pandas as pd\n",
    "import numpy as np"
   ]
  },
  {
   "cell_type": "code",
   "execution_count": 34,
   "id": "d331a496",
   "metadata": {},
   "outputs": [],
   "source": [
    "#prepare excel file for input\n",
    "FilePath = r\"C:\\Z\\sampleExcel.xlsx\"\n",
    "SheetName = 'Sheet1'\n",
    "Range = 'B:D'\n",
    "RowsToSkip = 1\n",
    "ColNameToRow = 'Col_C'\n",
    "Delimiter = ';'"
   ]
  },
  {
   "cell_type": "code",
   "execution_count": 35,
   "id": "8abefea1",
   "metadata": {},
   "outputs": [
    {
     "name": "stdout",
     "output_type": "stream",
     "text": [
      "   Col_A  Col_B                                              Col_C\n",
      "0  Luffy    123  Lolipop;Donut chocolate;Plain bagel with cream...\n",
      "1   Alex    456                Excavator;Bulldozer;Helicopter;Boat\n"
     ]
    }
   ],
   "source": [
    "df = pd.read_excel(io=FilePath, sheet_name=SheetName, usecols=Range, skiprows=RowsToSkip)\n",
    "print(df)\n"
   ]
  },
  {
   "cell_type": "code",
   "execution_count": 36,
   "id": "35e469e6",
   "metadata": {},
   "outputs": [
    {
     "name": "stdout",
     "output_type": "stream",
     "text": [
      "   Col_A  Col_B                          Col_C\n",
      "0  Luffy    123                        Lolipop\n",
      "0  Luffy    123                Donut chocolate\n",
      "0  Luffy    123  Plain bagel with cream cheese\n",
      "1   Alex    456                      Excavator\n",
      "1   Alex    456                      Bulldozer\n",
      "1   Alex    456                     Helicopter\n",
      "1   Alex    456                           Boat\n"
     ]
    }
   ],
   "source": [
    "df2 = df.drop(ColNameToRow, axis=1).join(\n",
    "    (\n",
    "    df[ColNameToRow]\n",
    "    .str\n",
    "    .split(Delimiter, expand=True)\n",
    "    .stack()\n",
    "    .reset_index(drop=True, level=1)\n",
    "    .rename(ColNameToRow)    \n",
    "    )\n",
    ")\n",
    "\n",
    "print(df2)"
   ]
  },
  {
   "cell_type": "code",
   "execution_count": 37,
   "id": "671e9fe6",
   "metadata": {},
   "outputs": [],
   "source": [
    "#prepare excel file for output\n",
    "FilePathOut = r\"C:\\Z\\ExcelOut.xlsx\"\n",
    "SheetNameOut = 'Sheet1'"
   ]
  },
  {
   "cell_type": "code",
   "execution_count": 38,
   "id": "d9df5ad4",
   "metadata": {},
   "outputs": [],
   "source": [
    "df2.to_excel(FilePathOut, sheet_name=SheetNameOut, index=False)"
   ]
  }
 ],
 "metadata": {
  "kernelspec": {
   "display_name": "Python 3 (ipykernel)",
   "language": "python",
   "name": "python3"
  },
  "language_info": {
   "codemirror_mode": {
    "name": "ipython",
    "version": 3
   },
   "file_extension": ".py",
   "mimetype": "text/x-python",
   "name": "python",
   "nbconvert_exporter": "python",
   "pygments_lexer": "ipython3",
   "version": "3.9.12"
  }
 },
 "nbformat": 4,
 "nbformat_minor": 5
}
